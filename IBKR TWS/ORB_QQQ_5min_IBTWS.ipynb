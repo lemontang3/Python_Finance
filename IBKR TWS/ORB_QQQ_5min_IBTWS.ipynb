{
  "cells": [
    {
      "cell_type": "markdown",
      "metadata": {
        "id": "nPKt7UbTHlyX"
      },
      "source": [
        "# ORB from Andrew Aziz's paper on SSRN\n",
        "\n",
        "https://papers.ssrn.com/sol3/papers.cfm?abstract_id=4416622"
      ]
    },
    {
      "cell_type": "markdown",
      "metadata": {
        "id": "lb1xEK6g5Zij"
      },
      "source": [
        "Installing the required libraries"
      ]
    },
    {
      "cell_type": "code",
      "execution_count": 20,
      "metadata": {
        "id": "rMZWY0W4HlyY"
      },
      "outputs": [],
      "source": [
        "import pandas as pd\n",
        "# import pandas_ta as ta\n",
        "import time\n",
        "import numpy as np\n",
        "from datetime import timezone,timedelta,datetime\n",
        "# from sklearn.decomposition import PCA\n",
        "import matplotlib.pyplot as plt\n",
        "import nest_asyncio\n",
        "import yfinance as yf\n",
        "import quantstats as qs\n",
        "import mplfinance as mpf\n",
        "import pickle\n",
        "from  ib_insync import *\n"
      ]
    },
    {
      "cell_type": "markdown",
      "metadata": {
        "id": "rqiSKlS75YDB"
      },
      "source": [
        "For the time being, we used data curated from various sources and filtered in a google drive csv file, this could be changed to be integrated from an external broker like IBKR for further use\n"
      ]
    },
    {
      "cell_type": "code",
      "execution_count": 2,
      "metadata": {},
      "outputs": [],
      "source": [
        "df = pd.DataFrame()\n",
        "columns = ['date', 'open', 'high', 'low', 'close', 'volume']\n",
        "df = pd.DataFrame(columns=columns)"
      ]
    },
    {
      "cell_type": "code",
      "execution_count": 3,
      "metadata": {},
      "outputs": [],
      "source": [
        "# Define the inputs\n",
        "capital = 25000           # Initial account value\n",
        "leverage = 4              # Leverage multiplier\n",
        "commission_per_share = 0.0035       # Comission fees and slippage\n",
        "account_risk=0.01         # Percentage of total account risked per trade\n",
        "profit_multiplier=10      # Profit target multiplier from entry price\n",
        "#first_column_index = df.index"
      ]
    },
    {
      "cell_type": "code",
      "execution_count": 8,
      "metadata": {},
      "outputs": [
        {
          "name": "stdout",
          "output_type": "stream",
          "text": [
            "{'date': Timestamp('2024-09-12 15:38:29.465485'), 'open': 468.78, 'high': 474.04, 'low': 466.85, 'close': 468.62, 'volume': 316141.0}\n"
          ]
        }
      ],
      "source": [
        "import nest_asyncio\n",
        "nest_asyncio.apply()\n",
        "ib = IB()\n",
        "ib.connect('127.0.0.1',7497,clientId=1)\n",
        "contract = Stock('QQQ','SMART','USD')\n",
        "def fetch_delayed_data():\n",
        "    # Request delayed market data\n",
        "    ib.reqMarketDataType(3)  # Use delayed data type (3) if real-time data is not available\n",
        "    ticker = ib.reqMktData(contract, snapshot=True)\n",
        "    ib.sleep(2)\n",
        "    if ticker:\n",
        "            data = {\n",
        "                'date': pd.Timestamp.now(),\n",
        "                'open': ticker.open,\n",
        "                'high': ticker.high,\n",
        "                'low': ticker.low,\n",
        "                'close': ticker.close,\n",
        "                'volume': ticker.volume,\n",
        "            }\n",
        "    return data\n",
        "print(fetch_delayed_data())\n",
        "ib.disconnect()"
      ]
    },
    {
      "cell_type": "code",
      "execution_count": 14,
      "metadata": {},
      "outputs": [
        {
          "name": "stdout",
          "output_type": "stream",
          "text": [
            "                        date    open    high     low   close    volume\n",
            "0 2024-09-12 15:43:53.121496  468.78  474.04  466.85  468.62  318940.0\n",
            "                        date    open    high     low   close    volume\n",
            "0 2024-09-12 15:43:53.121496  468.78  474.04  466.85  468.62  318940.0\n",
            "1 2024-09-12 15:44:56.142695  468.78  474.04  466.85  468.62  319654.0\n",
            "Data fetching stopped.\n"
          ]
        },
        {
          "data": {
            "text/html": [
              "<div>\n",
              "<style scoped>\n",
              "    .dataframe tbody tr th:only-of-type {\n",
              "        vertical-align: middle;\n",
              "    }\n",
              "\n",
              "    .dataframe tbody tr th {\n",
              "        vertical-align: top;\n",
              "    }\n",
              "\n",
              "    .dataframe thead th {\n",
              "        text-align: right;\n",
              "    }\n",
              "</style>\n",
              "<table border=\"1\" class=\"dataframe\">\n",
              "  <thead>\n",
              "    <tr style=\"text-align: right;\">\n",
              "      <th></th>\n",
              "      <th>date</th>\n",
              "      <th>open</th>\n",
              "      <th>high</th>\n",
              "      <th>low</th>\n",
              "      <th>close</th>\n",
              "      <th>volume</th>\n",
              "    </tr>\n",
              "  </thead>\n",
              "  <tbody>\n",
              "    <tr>\n",
              "      <th>0</th>\n",
              "      <td>2024-09-12 15:43:53.121496</td>\n",
              "      <td>468.78</td>\n",
              "      <td>474.04</td>\n",
              "      <td>466.85</td>\n",
              "      <td>468.62</td>\n",
              "      <td>318940.0</td>\n",
              "    </tr>\n",
              "    <tr>\n",
              "      <th>1</th>\n",
              "      <td>2024-09-12 15:44:56.142695</td>\n",
              "      <td>468.78</td>\n",
              "      <td>474.04</td>\n",
              "      <td>466.85</td>\n",
              "      <td>468.62</td>\n",
              "      <td>319654.0</td>\n",
              "    </tr>\n",
              "  </tbody>\n",
              "</table>\n",
              "</div>"
            ],
            "text/plain": [
              "                        date    open    high     low   close    volume\n",
              "0 2024-09-12 15:43:53.121496  468.78  474.04  466.85  468.62  318940.0\n",
              "1 2024-09-12 15:44:56.142695  468.78  474.04  466.85  468.62  319654.0"
            ]
          },
          "execution_count": 14,
          "metadata": {},
          "output_type": "execute_result"
        }
      ],
      "source": [
        "import nest_asyncio\n",
        "nest_asyncio.apply()\n",
        "df = pd.DataFrame()\n",
        "eod_price = 0\n",
        "ib = IB()\n",
        "ib.connect('127.0.0.1',7497,clientId=110)\n",
        "contract = Stock('QQQ','SMART','USD')\n",
        "def fetch_delayed_data():\n",
        "    # Request delayed market data\n",
        "    ib.reqMarketDataType(3)  # Use delayed data type (3) if real-time data is not available\n",
        "    ticker = ib.reqMktData(contract, snapshot=True)\n",
        "    ib.sleep(2)\n",
        "    if ticker:\n",
        "            data = {\n",
        "                'date': pd.Timestamp.now(),\n",
        "                'open': ticker.open,\n",
        "                'high': ticker.high,\n",
        "                'low': ticker.low,\n",
        "                'close': ticker.close,\n",
        "                'volume': ticker.volume,\n",
        "            }\n",
        "    return pd.DataFrame([data])\n",
        "# print(fetch_delayed_data())\n",
        "def is_end_of_day_data():\n",
        "    # Current time in UTC\n",
        "    current_time_utc = datetime.now(timezone.utc)\n",
        "\n",
        "    # Convert UTC to New York timezone (EST or EDT depending on the time of the year)\n",
        "    new_york_time = current_time_utc.astimezone(timezone(timedelta(hours=-4)))  # UTC-4 for Eastern Time during DST\n",
        "\n",
        "    # Market close time is 4:00 PM EST or 16:00 hours\n",
        "    market_close_time = new_york_time.replace(hour=16, minute=0, second=0, microsecond=0)\n",
        "\n",
        "    # Check if the current time is close to the market close time (with a buffer of 5 minutes)\n",
        "    return abs((new_york_time - market_close_time).total_seconds()) <= 300\n",
        "try:\n",
        "    while True:\n",
        "        df = pd.concat([df,fetch_delayed_data()],ignore_index=True)\n",
        "        print(df.tail())  # Print the most recent 5-minute bar\n",
        "        time.sleep(61)  # Wait for 5 minutes\n",
        "        if is_end_of_day_data():\n",
        "            eod_price = 1\n",
        "             \n",
        "except KeyboardInterrupt:\n",
        "    print(\"Data fetching stopped.\")\n",
        "finally:\n",
        "    ib.disconnect()\n",
        "df"
      ]
    },
    {
      "cell_type": "markdown",
      "metadata": {
        "id": "WmaHHN3y6WHT"
      },
      "source": [
        "Creating a dataframe named **df1** which stores TQQQ data from 2020 to 2024 in 5 min time intervals, the Date was converted to a DateTimeIndex\n",
        "> Certain Modifications to the data were required including:\n",
        "1.   Converting the Time Zone to UTC\n",
        "2.   Restricting the Data to the regular trading hours from 9:30 am to 4:00pm\n",
        "\n"
      ]
    },
    {
      "cell_type": "code",
      "execution_count": 23,
      "metadata": {},
      "outputs": [],
      "source": [
        "with open('shared_dataframe.pkl','wb') as f:\n",
        "    pickle.dump(df,f)"
      ]
    },
    {
      "cell_type": "code",
      "execution_count": 17,
      "metadata": {
        "colab": {
          "base_uri": "https://localhost:8080/",
          "height": 504
        },
        "id": "p17XNLoiCNDM",
        "outputId": "6996997f-ec6e-4c32-96ea-841026c6cc16"
      },
      "outputs": [
        {
          "name": "stderr",
          "output_type": "stream",
          "text": [
            "/var/folders/_j/xlsbmg1j0x341kvd3qz81kgr0000gn/T/ipykernel_18015/1831483955.py:14: FutureWarning: 'S' is deprecated and will be removed in a future version, please use 's' instead.\n",
            "  df.index = df.index.floor('S')\n"
          ]
        },
        {
          "data": {
            "text/html": [
              "<div>\n",
              "<style scoped>\n",
              "    .dataframe tbody tr th:only-of-type {\n",
              "        vertical-align: middle;\n",
              "    }\n",
              "\n",
              "    .dataframe tbody tr th {\n",
              "        vertical-align: top;\n",
              "    }\n",
              "\n",
              "    .dataframe thead th {\n",
              "        text-align: right;\n",
              "    }\n",
              "</style>\n",
              "<table border=\"1\" class=\"dataframe\">\n",
              "  <thead>\n",
              "    <tr style=\"text-align: right;\">\n",
              "      <th></th>\n",
              "      <th>open</th>\n",
              "      <th>high</th>\n",
              "      <th>low</th>\n",
              "      <th>close</th>\n",
              "      <th>volume</th>\n",
              "    </tr>\n",
              "    <tr>\n",
              "      <th>date</th>\n",
              "      <th></th>\n",
              "      <th></th>\n",
              "      <th></th>\n",
              "      <th></th>\n",
              "      <th></th>\n",
              "    </tr>\n",
              "  </thead>\n",
              "  <tbody>\n",
              "    <tr>\n",
              "      <th>2024-09-12 15:43:53</th>\n",
              "      <td>468.78</td>\n",
              "      <td>474.04</td>\n",
              "      <td>466.85</td>\n",
              "      <td>468.62</td>\n",
              "      <td>318940.0</td>\n",
              "    </tr>\n",
              "    <tr>\n",
              "      <th>2024-09-12 15:44:56</th>\n",
              "      <td>468.78</td>\n",
              "      <td>474.04</td>\n",
              "      <td>466.85</td>\n",
              "      <td>468.62</td>\n",
              "      <td>319654.0</td>\n",
              "    </tr>\n",
              "  </tbody>\n",
              "</table>\n",
              "</div>"
            ],
            "text/plain": [
              "                       open    high     low   close    volume\n",
              "date                                                         \n",
              "2024-09-12 15:43:53  468.78  474.04  466.85  468.62  318940.0\n",
              "2024-09-12 15:44:56  468.78  474.04  466.85  468.62  319654.0"
            ]
          },
          "execution_count": 17,
          "metadata": {},
          "output_type": "execute_result"
        }
      ],
      "source": [
        "# df1 = pd.read_csv(\"/content/drive/MyDrive/2015-2024_TQQQ_5min_IBKR.csv\")\n",
        "# df1['date'] = pd.to_datetime(df1['date'])\n",
        "df.set_index('date', inplace=True)\n",
        "df.rename(columns={\n",
        "            'Open': 'open',\n",
        "            'High': 'high',\n",
        "            'Low': 'low',\n",
        "            'Close': 'close',\n",
        "            'Volume': 'volume'\n",
        "        }, inplace=True)\n",
        "df.index = pd.to_datetime(df.index,utc=True)\n",
        "df.index = df.index.tz_convert('UTC')\n",
        "df.index = df.index.tz_localize(None)\n",
        "df.index = df.index.floor('S')\n",
        "df = df.between_time('09:30', '16:00')\n",
        "df"
      ]
    },
    {
      "cell_type": "markdown",
      "metadata": {
        "id": "4ZcrlBcC6rlw"
      },
      "source": [
        "The MPL Finance Library was used to plot the data in a candle stick pattern, this would further enable us to visualize the various buy and sell markers and help us visualize where we buy and sell!"
      ]
    },
    {
      "cell_type": "code",
      "execution_count": null,
      "metadata": {},
      "outputs": [],
      "source": [
        "def calculate_position_size(entry_price, stop_loss_price):\n",
        "    risk_per_trade = capital * account_risk\n",
        "    position_size = risk_per_trade / abs(entry_price - stop_loss_price)\n",
        "    return position_size\n",
        "# Example function to place a trade"
      ]
    },
    {
      "cell_type": "code",
      "execution_count": null,
      "metadata": {},
      "outputs": [],
      "source": [
        "# Function to calculate ORB strategy\n",
        "def place_trade(entry_price, stop_loss_price, target_price,type):\n",
        "    position_size = calculate_position_size(entry_price, stop_loss_price)\n",
        "    if type == 1:\n",
        "        order = MarketOrder('BUY', position_size)\n",
        "        trade = ib.placeOrder(contract, order)\n",
        "        # Set stop loss and profit target\n",
        "        stop_loss_order = StopOrder('SELL', position_size, stop_loss_price)\n",
        "        profit_target_order = LimitOrder('SELL', position_size, target_price)\n",
        "    elif type == -1:\n",
        "        order = MarketOrder('SELL', position_size)\n",
        "        trade = ib.placeOrder(contract, order)\n",
        "        # Set stop loss and profit target\n",
        "        stop_loss_order = StopOrder('BUY', position_size, stop_loss_price)\n",
        "        profit_target_order = LimitOrder('BUY', position_size, target_price)\n",
        "    # Place orders\n",
        "    ib.placeOrder(contract, stop_loss_order)\n",
        "    ib.placeOrder(contract, profit_target_order)\n",
        "    \n",
        "    return trade\n",
        "entry_price = None\n",
        "def apply_orb_strategy(data, capital, leverage, commission_per_share):\n",
        "    # df_results = pd.DataFrame()\n",
        "    # length = (len(data.groupby(data.index.date)))\n",
        "    # df_results['Date'] = None\n",
        "    # df_results['Date'] = df_results['Date'].reindex(range(length), fill_value=None)  # Pad with zeros if needed\n",
        "    # df_results['ORB QQQ'] = \"\"\n",
        "    # df_results['ORB QQQ'] = df_results['ORB QQQ'].reindex(range(length), fill_value=None)  # Pad with zeros if needed\n",
        "    # df_results['Buy and Hold QQQ'] = \"\"\n",
        "    # df_results['Buy and Hold QQQ'] = df_results['Buy and Hold QQQ'].reindex(range(length), fill_value=None)  # Pad with zeros if needed\n",
        "    # buy_points = {'date':[],\"price\":[]}\n",
        "    # sell_points = {'date':[],\"price\":[]}\n",
        "    # results = []\n",
        "    total_cap=capital\n",
        "    count = 0\n",
        "    initial_hold_quantity = capital/data['Close'][0]\n",
        "    for date, day_data in data.groupby(data.index.date):\n",
        "        day_data = day_data.reset_index()\n",
        "        if day_data.empty or len(day_data) < 2:\n",
        "            continue  # Skip if there's no data or not enough candles\n",
        "        # Define the first 5-minute range\n",
        "        opening_range = day_data.loc[0]\n",
        "        open_price = opening_range['Open']\n",
        "        high_price = opening_range['High']\n",
        "        low_price = opening_range['Low']\n",
        "        close_price = opening_range['Close']\n",
        "        if close_price > open_price:# Bullish first candle\n",
        "          entry_price = day_data.loc[1, 'Open']\n",
        "          stop_loss = low_price\n",
        "          direction = 1\n",
        "        #   buy_points['date'].append(date)\n",
        "        #   buy_points['price'].append(entry_price)\n",
        "\n",
        "        elif close_price < open_price: # Bearish first candle\n",
        "          entry_price = day_data.loc[1, 'Open']\n",
        "          stop_loss = high_price\n",
        "          direction = -1\n",
        "        #   sell_points['date'].append(date)\n",
        "        #   sell_points['price'].append(entry_price)\n",
        "        else:\n",
        "          direction = 0\n",
        "          continue\n",
        "\n",
        "        # Calculate risk per trade\n",
        "        risk_per_trade = account_risk * capital\n",
        "        # if entry_price == stop_loss:\n",
        "        #   continue\n",
        "        shares = risk_per_trade / abs(entry_price - stop_loss)\n",
        "        shares = min(shares, capital * leverage / entry_price)  # Adjust for leverage\n",
        "\n",
        "        profit_target = entry_price + direction * profit_multiplier * abs(entry_price - stop_loss)\n",
        "        place_trade(entry_price, stop_loss, profit_target,direction)\n",
        "        trade_commission = commission_per_share * shares\n",
        "        for idx, row in day_data.iterrows():\n",
        "            if idx <= 1:\n",
        "                continue  # Skip the first two rows  ???????????????????????????? WHY SKIP TWO ROWS?\n",
        "\n",
        "            current_price = row['Open']\n",
        "            if direction == 1 and current_price >= profit_target:\n",
        "                exit_price = profit_target\n",
        "                # sell_points['date'].append(date)\n",
        "                # sell_points['price'].append(exit_price)\n",
        "                break\n",
        "            elif direction == -1 and current_price <= profit_target:\n",
        "                exit_price = profit_target\n",
        "                # buy_points['date'].append(date)\n",
        "                # buy_points['price'].append(exit_price)\n",
        "                break\n",
        "            elif direction == 1 and current_price <= stop_loss:\n",
        "                exit_price = stop_loss\n",
        "                # sell_points['date'].append(date)\n",
        "                # sell_points['price'].append(exit_price)\n",
        "                break\n",
        "            elif direction == -1 and current_price >= stop_loss:\n",
        "                exit_price = stop_loss\n",
        "                # buy_points['date'].append(date)\n",
        "                # buy_points['price'].append(exit_price)\n",
        "                break\n",
        "        else:\n",
        "        exit_price = day_data.loc[len(day_data) - 1, 'Close']  # End of day exit\n",
        "        trade_profit = direction * (exit_price - entry_price) * shares\n",
        "        trade_profit -= trade_commission\n",
        "        total_cap+=trade_profit\n",
        "        \n",
        "        count+=1\n",
        "    return None\n"
      ]
    }
  ],
  "metadata": {
    "colab": {
      "provenance": []
    },
    "kernelspec": {
      "display_name": "Python 3",
      "language": "python",
      "name": "python3"
    },
    "language_info": {
      "codemirror_mode": {
        "name": "ipython",
        "version": 3
      },
      "file_extension": ".py",
      "mimetype": "text/x-python",
      "name": "python",
      "nbconvert_exporter": "python",
      "pygments_lexer": "ipython3",
      "version": "3.9.6"
    }
  },
  "nbformat": 4,
  "nbformat_minor": 0
}
