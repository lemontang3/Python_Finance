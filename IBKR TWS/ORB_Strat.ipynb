{
 "cells": [
  {
   "cell_type": "code",
   "execution_count": 41,
   "metadata": {},
   "outputs": [],
   "source": [
    "import pandas as pd\n",
    "# import pandas_ta as ta\n",
    "import time\n",
    "import numpy as np\n",
    "from datetime import timezone,timedelta,datetime\n",
    "# from sklearn.decomposition import PCA\n",
    "import matplotlib.pyplot as plt\n",
    "import nest_asyncio\n",
    "import yfinance as yf\n",
    "import quantstats as qs\n",
    "import mplfinance as mpf\n",
    "import pickle\n",
    "from  ib_insync import *\n",
    "import nest_asyncio"
   ]
  },
  {
   "cell_type": "code",
   "execution_count": 16,
   "metadata": {},
   "outputs": [],
   "source": [
    "def load_dataframe(file_path):\n",
    "    with open(file_path, 'rb') as f:\n",
    "        df = pickle.load(f)\n",
    "    return df"
   ]
  },
  {
   "cell_type": "code",
   "execution_count": 17,
   "metadata": {},
   "outputs": [
    {
     "name": "stdout",
     "output_type": "stream",
     "text": [
      "                        date    open    high     low   close    volume\n",
      "0 2024-09-12 16:01:39.436420  468.78  474.04  466.85  468.62  335885.0\n",
      "1 2024-09-12 16:02:42.464275  468.78  474.04  466.85  468.62  338319.0\n",
      "2 2024-09-12 16:03:45.490487  468.78  474.04  466.85  468.62  339545.0\n"
     ]
    },
    {
     "ename": "KeyboardInterrupt",
     "evalue": "",
     "output_type": "error",
     "traceback": [
      "\u001b[0;31m---------------------------------------------------------------------------\u001b[0m",
      "\u001b[0;31mKeyboardInterrupt\u001b[0m                         Traceback (most recent call last)",
      "Cell \u001b[0;32mIn[17], line 11\u001b[0m\n\u001b[1;32m      8\u001b[0m \u001b[38;5;28mprint\u001b[39m(df)\n\u001b[1;32m     10\u001b[0m \u001b[38;5;66;03m# Wait for 5 minutes before fetching again\u001b[39;00m\n\u001b[0;32m---> 11\u001b[0m \u001b[43mtime\u001b[49m\u001b[38;5;241;43m.\u001b[39;49m\u001b[43msleep\u001b[49m\u001b[43m(\u001b[49m\u001b[38;5;241;43m300\u001b[39;49m\u001b[43m)\u001b[49m  \u001b[38;5;66;03m# 300 seconds = 5 minutes\u001b[39;00m\n",
      "\u001b[0;31mKeyboardInterrupt\u001b[0m: "
     ]
    }
   ],
   "source": [
    "file_path = 'shared_dataframe.pkl'\n",
    "\n",
    "while True:\n",
    "    # Load the updated DataFrame\n",
    "    df = load_dataframe(file_path)\n",
    "    \n",
    "    # Process the DataFrame as needed\n",
    "    print(df)\n",
    "    \n",
    "    # Wait for 5 minutes before fetching again\n",
    "    time.sleep(300)  # 300 seconds = 5 minutes"
   ]
  },
  {
   "cell_type": "code",
   "execution_count": 18,
   "metadata": {},
   "outputs": [
    {
     "name": "stderr",
     "output_type": "stream",
     "text": [
      "/var/folders/_j/xlsbmg1j0x341kvd3qz81kgr0000gn/T/ipykernel_18756/2603723943.py:14: FutureWarning: 'S' is deprecated and will be removed in a future version, please use 's' instead.\n",
      "  df.index = df.index.floor('S')\n"
     ]
    },
    {
     "data": {
      "text/html": [
       "<div>\n",
       "<style scoped>\n",
       "    .dataframe tbody tr th:only-of-type {\n",
       "        vertical-align: middle;\n",
       "    }\n",
       "\n",
       "    .dataframe tbody tr th {\n",
       "        vertical-align: top;\n",
       "    }\n",
       "\n",
       "    .dataframe thead th {\n",
       "        text-align: right;\n",
       "    }\n",
       "</style>\n",
       "<table border=\"1\" class=\"dataframe\">\n",
       "  <thead>\n",
       "    <tr style=\"text-align: right;\">\n",
       "      <th></th>\n",
       "      <th>open</th>\n",
       "      <th>high</th>\n",
       "      <th>low</th>\n",
       "      <th>close</th>\n",
       "      <th>volume</th>\n",
       "    </tr>\n",
       "    <tr>\n",
       "      <th>date</th>\n",
       "      <th></th>\n",
       "      <th></th>\n",
       "      <th></th>\n",
       "      <th></th>\n",
       "      <th></th>\n",
       "    </tr>\n",
       "  </thead>\n",
       "  <tbody>\n",
       "    <tr>\n",
       "      <th>2024-09-12 16:01:39</th>\n",
       "      <td>468.78</td>\n",
       "      <td>474.04</td>\n",
       "      <td>466.85</td>\n",
       "      <td>468.62</td>\n",
       "      <td>335885.0</td>\n",
       "    </tr>\n",
       "    <tr>\n",
       "      <th>2024-09-12 16:02:42</th>\n",
       "      <td>468.78</td>\n",
       "      <td>474.04</td>\n",
       "      <td>466.85</td>\n",
       "      <td>468.62</td>\n",
       "      <td>338319.0</td>\n",
       "    </tr>\n",
       "    <tr>\n",
       "      <th>2024-09-12 16:03:45</th>\n",
       "      <td>468.78</td>\n",
       "      <td>474.04</td>\n",
       "      <td>466.85</td>\n",
       "      <td>468.62</td>\n",
       "      <td>339545.0</td>\n",
       "    </tr>\n",
       "  </tbody>\n",
       "</table>\n",
       "</div>"
      ],
      "text/plain": [
       "                       open    high     low   close    volume\n",
       "date                                                         \n",
       "2024-09-12 16:01:39  468.78  474.04  466.85  468.62  335885.0\n",
       "2024-09-12 16:02:42  468.78  474.04  466.85  468.62  338319.0\n",
       "2024-09-12 16:03:45  468.78  474.04  466.85  468.62  339545.0"
      ]
     },
     "execution_count": 18,
     "metadata": {},
     "output_type": "execute_result"
    }
   ],
   "source": [
    "# df1 = pd.read_csv(\"/content/drive/MyDrive/2015-2024_TQQQ_5min_IBKR.csv\")\n",
    "# df1['date'] = pd.to_datetime(df1['date'])\n",
    "df.set_index('date', inplace=True)\n",
    "df.rename(columns={\n",
    "            'Open': 'open',\n",
    "            'High': 'high',\n",
    "            'Low': 'low',\n",
    "            'Close': 'close',\n",
    "            'Volume': 'volume'\n",
    "        }, inplace=True)\n",
    "df.index = pd.to_datetime(df.index,utc=True)\n",
    "df.index = df.index.tz_convert('UTC')\n",
    "df.index = df.index.tz_localize(None)\n",
    "df.index = df.index.floor('s')\n",
    "#df = df.between_time('09:30', '16:00')\n",
    "df"
   ]
  },
  {
   "cell_type": "code",
   "execution_count": 55,
   "metadata": {},
   "outputs": [
    {
     "name": "stdout",
     "output_type": "stream",
     "text": [
      "0    16:01:39\n",
      "1    16:02:42\n",
      "2    16:03:45\n",
      "Name: date, dtype: object\n"
     ]
    }
   ],
   "source": [
    "for date, day_data in df.groupby(df.index.date):\n",
    "        day_data = day_data.reset_index()\n",
    "        print(day_data['date'].dt.time)"
   ]
  },
  {
   "cell_type": "code",
   "execution_count": 13,
   "metadata": {},
   "outputs": [],
   "source": [
    "# Define the inputs\n",
    "capital = 25000           # Initial account value\n",
    "leverage = 4              # Leverage multiplier\n",
    "commission_per_share = 0.0035       # Comission fees and slippage\n",
    "account_risk=0.01         # Percentage of total account risked per trade\n",
    "profit_multiplier=10      # Profit target multiplier from entry price\n",
    "#first_column_index = df.index"
   ]
  },
  {
   "cell_type": "code",
   "execution_count": 11,
   "metadata": {},
   "outputs": [],
   "source": [
    "def calculate_position_size(entry_price, stop_loss_price):\n",
    "    risk_per_trade = capital * account_risk\n",
    "    position_size = risk_per_trade / abs(entry_price - stop_loss_price)\n",
    "    return position_size\n",
    "# Example function to place a trade"
   ]
  },
  {
   "cell_type": "code",
   "execution_count": 12,
   "metadata": {},
   "outputs": [
    {
     "ename": "IndentationError",
     "evalue": "expected an indented block (3351827069.py, line 100)",
     "output_type": "error",
     "traceback": [
      "\u001b[0;36m  Cell \u001b[0;32mIn[12], line 100\u001b[0;36m\u001b[0m\n\u001b[0;31m    exit_price = day_data.loc[len(day_data) - 1, 'Close']  # End of day exit\u001b[0m\n\u001b[0m    ^\u001b[0m\n\u001b[0;31mIndentationError\u001b[0m\u001b[0;31m:\u001b[0m expected an indented block\n"
     ]
    }
   ],
   "source": [
    "# Function to calculate ORB strategy\n",
    "nest_asyncio.apply()\n",
    "df1 = pd.DataFrame()\n",
    "ib = IB()\n",
    "ib.connect('127.0.0.1',7497,clientId=10)\n",
    "contract = Stock('QQQ','SMART','USD')\n",
    "\n",
    "def place_trade(entry_price, stop_loss_price, target_price,type):\n",
    "    position_size = calculate_position_size(entry_price, stop_loss_price)\n",
    "    if type == 1:\n",
    "        order = MarketOrder('BUY', position_size)\n",
    "        trade = ib.placeOrder(contract, order)\n",
    "        # Set stop loss and profit target\n",
    "        stop_loss_order = StopOrder('SELL', position_size, stop_loss_price)\n",
    "        profit_target_order = LimitOrder('SELL', position_size, target_price)\n",
    "    elif type == -1:\n",
    "        order = MarketOrder('SELL', position_size)\n",
    "        trade = ib.placeOrder(contract, order)\n",
    "        # Set stop loss and profit target\n",
    "        stop_loss_order = StopOrder('BUY', position_size, stop_loss_price)\n",
    "        profit_target_order = LimitOrder('BUY', position_size, target_price)\n",
    "    # Place orders\n",
    "    ib.placeOrder(contract, stop_loss_order)\n",
    "    ib.placeOrder(contract, profit_target_order)\n",
    "    \n",
    "    return trade\n",
    "\n",
    "def close_position(position):\n",
    "              contract = Stock('QQQ','SMART','USD')\n",
    "              try:\n",
    "                  contract = position.contract\n",
    "                  quantity = position.position\n",
    "                  if quantity > 0:\n",
    "                      order = MarketOrder('SELL', quantity)\n",
    "                  else:\n",
    "                      order = MarketOrder('BUY', -quantity)\n",
    "                  trade = ib.placeOrder(contract, order)\n",
    "                  return trade\n",
    "              except Exception as e:\n",
    "                  print(f\"Error:{e}\")\n",
    "entry_price = None\n",
    "target_time = pd.to_datetime('15:30:00').time()\n",
    "\n",
    "def apply_orb_strategy(data, capital, leverage, commission_per_share):\n",
    "    total_cap=capital\n",
    "    count = 0\n",
    "    #initial_hold_quantity = capital/data['Close'][0]\n",
    "    for date, day_data in data.groupby(data.index.date):\n",
    "        day_data = day_data.reset_index()\n",
    "        if day_data.empty or len(day_data) < 2:\n",
    "            continue  # Skip if there's no data or not enough candles\n",
    "        # Define the first 5-minute range\n",
    "        opening_range = day_data.loc[0]\n",
    "        open_price = opening_range['Open']\n",
    "        high_price = opening_range['High']\n",
    "        low_price = opening_range['Low']\n",
    "        close_price = opening_range['Close']\n",
    "        if close_price > open_price:# Bullish first candle\n",
    "          entry_price = day_data.loc[1, 'Open']\n",
    "          stop_loss = low_price\n",
    "          direction = 1\n",
    "        #   buy_points['date'].append(date)\n",
    "        #   buy_points['price'].append(entry_price)\n",
    "\n",
    "        elif close_price < open_price: # Bearish first candle\n",
    "          entry_price = day_data.loc[1, 'Open']\n",
    "          stop_loss = high_price\n",
    "          direction = -1\n",
    "        #   sell_points['date'].append(date)\n",
    "        #   sell_points['price'].append(entry_price)\n",
    "        else:\n",
    "          direction = 0\n",
    "          continue\n",
    "\n",
    "        # Calculate risk per trade\n",
    "        risk_per_trade = account_risk * capital\n",
    "        # if entry_price == stop_loss:\n",
    "        #   continue\n",
    "        shares = risk_per_trade / abs(entry_price - stop_loss)\n",
    "        shares = min(shares, capital * leverage / entry_price)  # Adjust for leverage\n",
    "\n",
    "        profit_target = entry_price + direction * profit_multiplier * abs(entry_price - stop_loss)\n",
    "        place_trade(entry_price, stop_loss, profit_target,direction)\n",
    "        if day_data['date'].loc[-1].dt.time > target_time:\n",
    "          # Close all positions\n",
    "          trades = []\n",
    "          positions = ib.positions()\n",
    "          for position in positions:\n",
    "              trade = close_position(position)\n",
    "              trades.append(trade)\n",
    "\n",
    "          # Monitor the status of the trades\n",
    "          for trade in trades:\n",
    "              while trade.orderStatus.status in ['PendingSubmit', 'Submitted']:\n",
    "                  print(f'Order Status: {trade.orderStatus.status}')\n",
    "                  ib.sleep(5)  # Wait 5 seconds before checking again\n",
    "              print(f'Final Order Status: {trade.orderStatus.status}')\n",
    "    return None\n"
   ]
  },
  {
   "cell_type": "code",
   "execution_count": 47,
   "metadata": {},
   "outputs": [],
   "source": [
    "ib.connect('127.0.0.1',7497,clientId=10)\n",
    "contract = Stock('QQQ','SMART','USD')\n",
    "# Send the order\n",
    "# trade = ib.placeOrder(contract, order)\n",
    "# while trade.orderStatus.status in ['PendingSubmit', 'Submitted']:\n",
    "#     print(f'Order Status: {trade.orderStatus.status}')\n",
    "#     time.sleep(5)  # Wait 5 seconds before checking again\n",
    "\n",
    "# print(f'Final Order Status: {trade.orderStatus.status}')\n",
    "order = MarketOrder('BUY', 1)\n",
    "trade = ib.placeOrder(contract, order)\n",
    "# Set stop loss and profit target\n",
    "stop_loss_order = StopOrder('SELL', 1, 472.44)\n",
    "profit_target_order = LimitOrder('SELL', 1, 500)\n"
   ]
  },
  {
   "cell_type": "code",
   "execution_count": 50,
   "metadata": {},
   "outputs": [
    {
     "data": {
      "text/plain": [
       "Trade(contract=Stock(symbol='QQQ', exchange='SMART', currency='USD'), order=LimitOrder(orderId=7, clientId=10, action='SELL', totalQuantity=1, lmtPrice=500), orderStatus=OrderStatus(orderId=7, status='PendingSubmit', filled=0.0, remaining=0.0, avgFillPrice=0.0, permId=0, parentId=0, lastFillPrice=0.0, clientId=0, whyHeld='', mktCapPrice=0.0), fills=[], log=[TradeLogEntry(time=datetime.datetime(2024, 9, 12, 20, 52, 44, 60057, tzinfo=datetime.timezone.utc), status='PendingSubmit', message='', errorCode=0)], advancedError='')"
      ]
     },
     "execution_count": 50,
     "metadata": {},
     "output_type": "execute_result"
    }
   ],
   "source": [
    "ib.connect('127.0.0.1',7497,clientId=10)\n",
    "contract = Stock('QQQ','SMART','USD')\n",
    "\n",
    "ib.placeOrder(contract, stop_loss_order)\n",
    "ib.placeOrder(contract, profit_target_order)\n"
   ]
  },
  {
   "cell_type": "code",
   "execution_count": 52,
   "metadata": {},
   "outputs": [
    {
     "name": "stdout",
     "output_type": "stream",
     "text": [
      "[StopOrder(orderId=6, clientId=10, permId=581124642, action='SELL', totalQuantity=1.0, lmtPrice=0.0, auxPrice=472.44), LimitOrder(orderId=7, clientId=10, permId=581124643, action='SELL', totalQuantity=1.0, lmtPrice=500.0, auxPrice=0.0)]\n"
     ]
    }
   ],
   "source": [
    "open_orders = ib.openOrders()\n",
    "print(open_orders)\n",
    "# Display pending orders\n",
    "# for order in open_orders:\n",
    "#     print(f\"Order ID: {order.order.orderId}\")\n",
    "#     print(f\"Action: {order.order.action}\")\n",
    "#     print(f\"Quantity: {order.order.totalQuantity}\")\n",
    "#     print(f\"Type: {order.order.orderType}\")\n",
    "#     print(f\"Status: {order.orderStatus.status}\")\n",
    "#     print(f\"Symbol: {order.contract.symbol}\")\n",
    "#     print(f\"Price: {order.order.lmtPrice if order.order.orderType == 'LMT' else 'N/A'}\")\n",
    "#     print(f\"Stop Price: {order.order.auxPrice if order.order.orderType == 'STP' else 'N/A'}\")\n",
    "#     print(f\"Time in Force: {order.order.timeInForce}\")\n",
    "#     print('-' * 30)\n",
    "\n",
    "# Disconnect from IBKR TWS\n",
    "ib.disconnect()"
   ]
  },
  {
   "cell_type": "code",
   "execution_count": 40,
   "metadata": {},
   "outputs": [],
   "source": [
    "ib = IB()\n",
    "ib.connect('127.0.0.1',7497,clientId=110)\n",
    "order = MarketOrder('SELL', 5)\n",
    "trade = ib.placeOrder(contract, order)\n"
   ]
  },
  {
   "cell_type": "code",
   "execution_count": 38,
   "metadata": {},
   "outputs": [
    {
     "name": "stdout",
     "output_type": "stream",
     "text": [
      "     account                                           contract  position  \\\n",
      "0  DUA169396  Stock(conId=320227571, symbol='QQQ', exchange=...       5.0   \n",
      "\n",
      "      avgCost  \n",
      "0  473.550052  \n"
     ]
    }
   ],
   "source": [
    "positions = ib.positions()\n",
    "positions_df = util.df(positions)\n",
    "print(positions_df)"
   ]
  },
  {
   "cell_type": "code",
   "execution_count": 37,
   "metadata": {},
   "outputs": [
    {
     "name": "stderr",
     "output_type": "stream",
     "text": [
      "Error 200, reqId 18: No security definition has been found for the request\n",
      "Canceled order: Trade(contract=Stock(conId=320227571, symbol='QQQ', exchange='NASDAQ', currency='USD', localSymbol='QQQ', tradingClass='NMS'), order=MarketOrder(orderId=18, clientId=110, action='SELL', totalQuantity=5.0), orderStatus=OrderStatus(orderId=18, status='Cancelled', filled=0.0, remaining=0.0, avgFillPrice=0.0, permId=0, parentId=0, lastFillPrice=0.0, clientId=0, whyHeld='', mktCapPrice=0.0), fills=[], log=[TradeLogEntry(time=datetime.datetime(2024, 9, 12, 20, 37, 29, 735942, tzinfo=datetime.timezone.utc), status='PendingSubmit', message='', errorCode=0), TradeLogEntry(time=datetime.datetime(2024, 9, 12, 20, 37, 29, 777062, tzinfo=datetime.timezone.utc), status='Cancelled', message='Error 200, reqId 18: No security definition has been found for the request', errorCode=200)], advancedError='')\n"
     ]
    },
    {
     "name": "stdout",
     "output_type": "stream",
     "text": [
      "Order Status: PendingSubmit\n",
      "Final Order Status: Cancelled\n"
     ]
    }
   ],
   "source": [
    "import nest_asyncio\n",
    "nest_asyncio.apply()\n",
    "ib = IB()\n",
    "ib.connect('127.0.0.1',7497,clientId=110)\n",
    "positions = ib.positions()\n",
    "ib.qualifyContracts(contract)\n",
    "\n",
    "def close_position(position):\n",
    "    contract = Stock('QQQ','SMART','USD')\n",
    "    try:\n",
    "        contract = position.contract\n",
    "        quantity = position.position\n",
    "        if quantity > 0:\n",
    "            order = MarketOrder('SELL', quantity)\n",
    "        else:\n",
    "            order = MarketOrder('BUY', -quantity)\n",
    "        trade = ib.placeOrder(contract, order)\n",
    "        return trade\n",
    "    except Exception as e:\n",
    "        print(f\"Error:{e}\")\n",
    "# Close all positions\n",
    "trades = []\n",
    "for position in positions:\n",
    "    trade = close_position(position)\n",
    "    trades.append(trade)\n",
    "\n",
    "# Monitor the status of the trades\n",
    "for trade in trades:\n",
    "    while trade.orderStatus.status in ['PendingSubmit', 'Submitted']:\n",
    "        print(f'Order Status: {trade.orderStatus.status}')\n",
    "        ib.sleep(5)  # Wait 5 seconds before checking again\n",
    "    print(f'Final Order Status: {trade.orderStatus.status}')\n",
    "\n",
    "# Disconnect from IBKR TWS\n",
    "ib.disconnect()"
   ]
  }
 ],
 "metadata": {
  "kernelspec": {
   "display_name": "Python 3",
   "language": "python",
   "name": "python3"
  },
  "language_info": {
   "codemirror_mode": {
    "name": "ipython",
    "version": 3
   },
   "file_extension": ".py",
   "mimetype": "text/x-python",
   "name": "python",
   "nbconvert_exporter": "python",
   "pygments_lexer": "ipython3",
   "version": "3.9.6"
  }
 },
 "nbformat": 4,
 "nbformat_minor": 2
}
